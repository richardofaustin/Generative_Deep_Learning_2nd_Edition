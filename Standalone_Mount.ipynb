{
  "nbformat": 4,
  "nbformat_minor": 0,
  "metadata": {
    "colab": {
      "provenance": [],
      "toc_visible": true,
      "authorship_tag": "ABX9TyNCW4gaARtkpJ/hhwlJ/oEd",
      "include_colab_link": true
    },
    "kernelspec": {
      "name": "python3",
      "display_name": "Python 3"
    },
    "language_info": {
      "name": "python"
    }
  },
  "cells": [
    {
      "cell_type": "markdown",
      "metadata": {
        "id": "view-in-github",
        "colab_type": "text"
      },
      "source": [
        "<a href=\"https://colab.research.google.com/github/richardofaustin/Generative_Deep_Learning_2nd_Edition/blob/main/Standalone_Mount.ipynb\" target=\"_parent\"><img src=\"https://colab.research.google.com/assets/colab-badge.svg\" alt=\"Open In Colab\"/></a>"
      ]
    },
    {
      "cell_type": "code",
      "execution_count": null,
      "metadata": {
        "id": "BzjYULrhA-Ab"
      },
      "outputs": [],
      "source": []
    },
    {
      "cell_type": "code",
      "execution_count": 1,
      "metadata": {
        "colab": {
          "base_uri": "https://localhost:8080/"
        },
        "id": "ePKWxiWRgI4G",
        "outputId": "c479c0d2-384d-4f79-cb1c-36cfd9c3c366"
      },
      "outputs": [
        {
          "output_type": "stream",
          "name": "stdout",
          "text": [
            "Mounted at /content/drive/\n"
          ]
        }
      ],
      "source": [
        "from google.colab import drive\n",
        "drive.mount('/content/drive/')"
      ]
    },
    {
      "cell_type": "code",
      "execution_count": 2,
      "metadata": {
        "colab": {
          "base_uri": "https://localhost:8080/"
        },
        "id": "v86oj80UiCJy",
        "outputId": "461839d6-b778-4578-a659-e4f398891fe7"
      },
      "outputs": [
        {
          "output_type": "stream",
          "name": "stdout",
          "text": [
            "/content/drive/My Drive/Colab Notebooks\n",
            "/content/drive/My Drive/Colab Notebooks\n",
            " 06_01\t      'Code to Mount My Drive.txt'\t  'LOSS FUNCTIONS'\t'Richa Colab Util.ipynb'\n",
            " 06_01.ipynb  'Copy of Deep_Energy_Models.ipynb'   MSLE.ipynb\t\t'Standalone Mount.ipynb'\n",
            " 07_01\t      'Copy of gpt-with-gpu.ipynb'\t  'Proper Mount.ipynb'\t STOCK_COMPARE\n",
            " 08_01\t      'Copy of MSLE.ipynb'\t\t  'Proper Mount.txt'\n",
            " 09_01\t      'Copy of real_nvp'\t\t   requirements.txt\n"
          ]
        }
      ],
      "source": [
        "%cd \"/content/drive/My Drive/Colab Notebooks\"\n",
        "!pwd\n",
        "!ls\n"
      ]
    },
    {
      "cell_type": "code",
      "source": [],
      "metadata": {
        "id": "-7JpwIehBznm"
      },
      "execution_count": null,
      "outputs": []
    }
  ]
}